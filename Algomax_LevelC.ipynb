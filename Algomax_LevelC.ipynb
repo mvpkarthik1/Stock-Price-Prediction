{
 "cells": [
  {
   "cell_type": "markdown",
   "id": "eb8a311f",
   "metadata": {},
   "source": [
    "# Level C\n",
    "# Pick a dataset and objective\n",
    "\n",
    "### Dataset:\n",
    "- Dataset of Nifty Stock prices of Indian companies. ( https://www.kaggle.com/rohanrao/nifty50-stock-market-data  )\n",
    "\n",
    "### Problem Statement:\n",
    "\n",
    "- Creating an Algorithm to accept a filename as an input flag and automatically develop a Time Series Model to predict stock prices for it.\n",
    "\n",
    "\n",
    "### Time Period\n",
    "- Time period of the  year of 2008 using all previous data and for 2016 using data from 2009-2015.\n",
    "    \n",
    "    \n",
    "    - You can start with a base algorithm choice like LSTM. However, the structure of this network should not be predefined.\n",
    "    - This algorithm should automatically decide the structure of the network (no. of layers, no of neurons, etc) and hyperparameters to be used in the network\n",
    "\t- This algorithm should accept the name of the stock to be used as input (e.g. ICICIBANK.csv) in command line while running the program.\n",
    "    - The algorithm should develop a model and save it as <stock_name>.h5 after optimizing the network configuration.\n",
    "    - The algorithm should write the accuracy of the final algorithm to a file.\n"
   ]
  },
  {
   "cell_type": "code",
   "execution_count": 38,
   "id": "660d477e",
   "metadata": {},
   "outputs": [],
   "source": [
    "### Loading the libraries required\n",
    "\n",
    "import pandas as pd       #Loading pandas for creating and adjusting dataframes \n",
    "import numpy as np        # Loading Numpy for creating and adjusting arrays\n",
    "\n",
    "import matplotlib.pyplot as plt      # Loading matplotlib for visualizations\n",
    "%matplotlib inline\n",
    "\n",
    "from sklearn.preprocessing import MinMaxScaler # Loading MinMaxScaler to scale the data\n",
    "\n",
    "from sklearn.model_selection import GridSearchCV, KFold # Loading gridsearch CV for hyperparameter tuning using Crss Validation\n",
    "\n",
    "from tensorflow.keras.layers import LSTM\n",
    "\n",
    "from tensorflow.keras.models import Sequential     #Loading Sequential model from tensor flow to craete a LSTM model\n",
    "from tensorflow.keras.layers import LSTM           #Loading LSTM model from tensor flow to craete a ANN model\n",
    "from tensorflow.keras.layers import Dense          #Loading Dense layer from tensor flow to craete a Neural network layers\n",
    "from tensorflow.keras.layers import Dropout        #Loading Drop out Layer\n",
    "\n",
    "from tensorflow.keras.optimizers import Adam       #Loading Adam optimizer for LSTM\n",
    "\n",
    "from sklearn.metrics import mean_squared_error     #Loading Mean Squared Error to to check the error metrics of the model \n",
    "from sklearn.metrics import mean_absolute_percentage_error  #Loading Mean absolute percentage error to to check the error metrics of the model \n",
    "from sklearn.metrics import r2_score       #Loading R^2 (R squared) to check the efficiency metrics of the model\n"
   ]
  },
  {
   "cell_type": "code",
   "execution_count": 39,
   "id": "1dff46de",
   "metadata": {},
   "outputs": [
    {
     "name": "stdout",
     "output_type": "stream",
     "text": [
      "Enter CSV file name : icicibank\n",
      "C:\\Users\\cricl\\Documents\\AIQ4\\LEVEL C\n"
     ]
    }
   ],
   "source": [
    "# Get input from user of a file name\n",
    "csv_file  = input(\"Enter CSV file name : \")\n",
    "import os\n",
    "#to get the current working directory\n",
    "directory = os.getcwd()\n",
    "\n",
    "print(directory)\n",
    "#Reading the file name given as input\n",
    "csv_file = csv_file.upper()\n",
    "file_name = (\"{}\\\\Nifty Stock prices of Indian companies\\{}.csv\".format(directory,csv_file))\n",
    "df = pd.read_csv(file_name)"
   ]
  },
  {
   "cell_type": "code",
   "execution_count": 40,
   "id": "9cdfc9cc",
   "metadata": {},
   "outputs": [],
   "source": [
    "# Preprocessing the data\n",
    "\n",
    "def preprocessing(df,year):\n",
    "    \n",
    "    for i in '%Y-%m-%d', '%d-%m-%Y', '%m-%d-%Y':\n",
    "        df[\"Date\"] = pd.to_datetime(df.Date, format = i) #Converting the Date column to datetime fromat\n",
    "        df[\"Year\"] = pd.to_datetime(df.Date, format = i).dt.year # XCreating a Year Column in DF to split the data\n",
    "\n",
    "    ### If year input in 2008\n",
    "    # Create data between 2000 to 2008\n",
    "    #Considering only DATE, Closea and Year Column\n",
    "    \n",
    "    if year == 2008:\n",
    "        \n",
    "        start_year = year-8\n",
    "        end_year = year\n",
    "        \n",
    "        data = df.loc[df[\"Year\"] <= year]\n",
    "        \n",
    "        data = data[[\"Date\",\"Close\",\"Year\"]]\n",
    "        data.set_index('Date', inplace=True)\n",
    "        \n",
    "    ### If year input is 2016\n",
    "    # Create data between 2009 to 2016\n",
    "    #Considering only DATE, Closea and Year Column\n",
    "    \n",
    "    if year == 2016:\n",
    "        \n",
    "        start_year = year-7\n",
    "        end_year = year\n",
    "    \n",
    "        data = df[(df[\"Year\"] <= end_year) & (df[\"Year\"] >= start_year)]\n",
    "        \n",
    "        data = data[[\"Date\",\"Close\",\"Year\"]]\n",
    "        data.set_index('Date', inplace=True)\n",
    "        \n",
    "    \n",
    "    # Create Test data and Train data as per inputs given (Input is Year)\n",
    "    \n",
    "    Train_data = data.loc[data[\"Year\"] < end_year]\n",
    "    Train_data = Train_data[\"Close\"]\n",
    "    Train_data = Train_data.to_frame()\n",
    "    \n",
    "    Test_data = data[(data[\"Year\"] == end_year)]\n",
    "    Test_data = Test_data[\"Close\"]\n",
    "    Test_data = Test_data.to_frame()\n",
    "    \n",
    "    return Train_data,Test_data,data"
   ]
  },
  {
   "cell_type": "code",
   "execution_count": 41,
   "id": "36d77ca1",
   "metadata": {},
   "outputs": [],
   "source": [
    "# Creating Train and Test data with the function created\n",
    "Train_data = preprocessing(df,2008)[0]\n",
    "Test_data = preprocessing(df,2008)[1]\n",
    "data = preprocessing(df,2008)[2]"
   ]
  },
  {
   "cell_type": "code",
   "execution_count": 42,
   "id": "2be0c790",
   "metadata": {},
   "outputs": [
    {
     "data": {
      "text/plain": [
       "<AxesSubplot:xlabel='Date'>"
      ]
     },
     "execution_count": 42,
     "metadata": {},
     "output_type": "execute_result"
    },
    {
     "data": {
      "image/png": "[encoded data removed]",
      "text/plain": [
       "<Figure size 864x432 with 1 Axes>"
      ]
     },
     "metadata": {
      "needs_background": "light"
     },
     "output_type": "display_data"
    }
   ],
   "source": [
    "#Visualizing the Close column\n",
    "data = data.drop([\"Year\"], axis = 1)\n",
    "data.plot( y = \"Close\",figsize=(12,6))"
   ]
  },
  {
   "cell_type": "code",
   "execution_count": 43,
   "id": "4cf07207",
   "metadata": {},
   "outputs": [],
   "source": [
    "# Scaling the data using MinMaxScaler and fit the tain and test data\n",
    "scaler = MinMaxScaler(feature_range = (0,1))\n",
    "\n",
    "scaled_array_train = scaler.fit_transform(Train_data)\n",
    "scaled_array_test = scaler.fit_transform(Test_data)"
   ]
  },
  {
   "cell_type": "code",
   "execution_count": 44,
   "id": "41bebe7a",
   "metadata": {},
   "outputs": [],
   "source": [
    "# Creating the time series based on time step with the scaled data\n",
    "## Time step provided is 90\n",
    "\n",
    "def create_time_series(scaled_array,time_step):\n",
    "    X = []\n",
    "    Y = []\n",
    "    time_step = time_step\n",
    "    for i in range(time_step,len(scaled_array)):\n",
    "        X.append(scaled_array[i-time_step:i,0])\n",
    "        Y.append(scaled_array[i,0])\n",
    "    \n",
    "    \n",
    "    X = np.array(X)\n",
    "    Y = np.array(Y)\n",
    "    \n",
    "    return (X,Y)\n",
    "    "
   ]
  },
  {
   "cell_type": "code",
   "execution_count": 45,
   "id": "c456c019",
   "metadata": {},
   "outputs": [],
   "source": [
    "#Creating X_train,Y_train,X_test,Y_test using the above created function\n",
    "\n",
    "X_train = create_time_series(scaled_array_train,90)[0]\n",
    "Y_train = create_time_series(scaled_array_train,90)[1]\n",
    "\n",
    "X_test = create_time_series(scaled_array_test,90)[0]\n",
    "Y_test = create_time_series(scaled_array_test,90)[1]\n"
   ]
  },
  {
   "cell_type": "code",
   "execution_count": 46,
   "id": "2f6f3870",
   "metadata": {},
   "outputs": [],
   "source": [
    "X_train_reshaped = np.reshape(X_train,(X_train.shape[0],X_train.shape[1],1))"
   ]
  },
  {
   "cell_type": "code",
   "execution_count": 47,
   "id": "cb57c89d",
   "metadata": {},
   "outputs": [],
   "source": [
    "X_test_reshaped = np.reshape(X_test,(X_test.shape[0],X_test.shape[1],1))"
   ]
  },
  {
   "cell_type": "code",
   "execution_count": null,
   "id": "f61b0256",
   "metadata": {},
   "outputs": [],
   "source": []
  },
  {
   "cell_type": "markdown",
   "id": "6e590ea5",
   "metadata": {},
   "source": [
    "### Hyperparameters all at once\n",
    "- The hyperparameter optimization was carried out by taking 2 hyperparameters at once. We may have missed the best values. The performance can be further improved by finding the optimum values of hyperparameters all at once given by the code snippet below.\n",
    "\n",
    "- This process is computationally expensive."
   ]
  },
  {
   "cell_type": "raw",
   "id": "e0ea4ece",
   "metadata": {},
   "source": [
    "def create_model(neuron1,neuron2,learning_rate,dropout_rate,activation_function,):\n",
    "    model = Sequential()\n",
    "    model.add(LSTM(neuron1, activation=activation_function,return_sequences =True, input_shape=(X_train.shape[1],1)))\n",
    "    model.add(Dropout(0.2))\n",
    "\n",
    "    model.add(LSTM(neuron2, activation=activation_function,return_sequences =False))\n",
    "    model.add(Dropout(0.2))\n",
    "\n",
    "    model.add(Dense(1))\n",
    "    adam = Adam(learning_rate = learning_rate)\n",
    "    model.compile(optimizer=adam, loss='mse')\n",
    "    return model\n",
    "\n",
    "# Create the model\n",
    "from tensorflow.keras.wrappers.scikit_learn import KerasRegressor\n",
    "model = KerasRegressor(build_fn = create_model,verbose = 0,batch_size= 10,epochs = 3)\n",
    "\n",
    "# Define the grid search parameters\n",
    "\n",
    "learning_rate = [0.001,0.01,0.1]\n",
    "dropout_rate = [0.01,0.1,0.2]\n",
    "activation_function = ['softmax','relu','tanh','linear']\n",
    "neuron1 = [50,60,70]\n",
    "neuron2 = [50,60,70]\n",
    "# Make a dictionary of the grid search parameters\n",
    "\n",
    "param_grids = dict(neuron1=neuron1,\n",
    "                   neuron2=neuron2,\n",
    "                   activation_function=activation_function,\n",
    "                   learning_rate = learning_rate,\n",
    "                   dropout_rate = dropout_rate)\n",
    "\n",
    "# Build and fit the GridSearchCV\n",
    "\n",
    "grid = GridSearchCV(estimator = model,param_grid = param_grids,cv = KFold(),verbose = 10)\n",
    "grid_result = grid.fit(X_train_reshaped,Y_train)\n",
    "\n",
    "\n",
    "\n",
    "\n",
    "\n",
    "# Summarize the results\n",
    "print('Best : {}, using {}'.format(grid_result.best_score_,grid_result.best_params_))\n",
    "means = grid_result.cv_results_['mean_test_score']\n",
    "stds = grid_result.cv_results_['std_test_score']\n",
    "params = grid_result.cv_results_['params']\n",
    "for mean, stdev, param in zip(means, stds, params):\n",
    "    print('{},{} with: {}'.format(mean, stdev, param))\n",
    "\n",
    "\n",
    "\n",
    "\n",
    "dropout_rate = grid_result.best_params_[dropout_rate]\n",
    "learning_rate = grid_result.best_params_[learning_rate]\n",
    "activation_function = grid_result.best_params_[activation_function]\n",
    "learning_rate = grid_result.best_params_[learning_rate]\n",
    "neuron1 = grid_result.best_params_[neuron1]\n",
    "neuron2 = grid_result.best_params_[neuron2]\n",
    "\n",
    "\n",
    "\n",
    "dropout_rate,learning_rate,activation_function,neuron1,neuron2)"
   ]
  },
  {
   "cell_type": "code",
   "execution_count": 48,
   "id": "4f018768",
   "metadata": {},
   "outputs": [],
   "source": [
    "# Creating the function to optimize the Hyper parameters\n",
    "# In this case learning_rate and dropout_rate\n",
    "\n",
    "def optimize_params(X,Y):\n",
    "    #creating model to use in the grid serach CV\n",
    "    def create_model(learning_rate,dropout_rate):\n",
    "        model = Sequential()\n",
    "        model.add(LSTM(50, activation=\"relu\",return_sequences =True, input_shape=(X_train.shape[1],1)))\n",
    "        model.add(Dropout(0.2))\n",
    "\n",
    "        model.add(LSTM(50, activation=\"relu\",return_sequences =False))\n",
    "        model.add(Dropout(0.2))\n",
    "\n",
    "        model.add(Dense(1))\n",
    "        adam = Adam(learning_rate = learning_rate)\n",
    "        model.compile(optimizer=adam, loss='mse')\n",
    "        return model\n",
    "\n",
    "    # Create the model\n",
    "    from tensorflow.keras.wrappers.scikit_learn import KerasRegressor\n",
    "    model = KerasRegressor(build_fn = create_model,verbose = 0,batch_size= 10,epochs = 3)\n",
    "\n",
    "    # Define the grid search parameters\n",
    "\n",
    "    learning_rate = [0.001,0.01,0.1]\n",
    "    dropout_rate = [0.01,0.1,0.2]\n",
    "\n",
    "    # Make a dictionary of the grid search parameters\n",
    "\n",
    "    param_grids = dict(learning_rate = learning_rate,\n",
    "                       dropout_rate = dropout_rate)\n",
    "\n",
    "    # Build and fit the GridSearchCV\n",
    "\n",
    "    grid = GridSearchCV(estimator = model,param_grid = param_grids,cv = KFold(),verbose = 10)\n",
    "    grid_result = grid.fit(X,Y)\n",
    "\n",
    "    # Summarize the results\n",
    "    print('Best : {}, using {}'.format(grid_result.best_score_,grid_result.best_params_))\n",
    "    means = grid_result.cv_results_['mean_test_score']\n",
    "    stds = grid_result.cv_results_['std_test_score']\n",
    "    params = grid_result.cv_results_['params']\n",
    "    for mean, stdev, param in zip(means, stds, params):\n",
    "        print('{},{} with: {}'.format(mean, stdev, param))\n",
    "    \n",
    "\n",
    "    return (grid_result.best_params_)"
   ]
  },
  {
   "cell_type": "code",
   "execution_count": 49,
   "id": "88c3142b",
   "metadata": {},
   "outputs": [
    {
     "name": "stdout",
     "output_type": "stream",
     "text": [
      "Fitting 5 folds for each of 9 candidates, totalling 45 fits\n",
      "[CV 1/5; 1/9] START dropout_rate=0.01, learning_rate=0.001......................\n",
      "[CV 1/5; 1/9] END dropout_rate=0.01, learning_rate=0.001;, score=-0.000 total time=  43.3s\n",
      "[CV 2/5; 1/9] START dropout_rate=0.01, learning_rate=0.001......................\n",
      "[CV 2/5; 1/9] END dropout_rate=0.01, learning_rate=0.001;, score=-0.000 total time=  41.6s\n",
      "[CV 3/5; 1/9] START dropout_rate=0.01, learning_rate=0.001......................\n",
      "[CV 3/5; 1/9] END dropout_rate=0.01, learning_rate=0.001;, score=-0.000 total time=  46.4s\n",
      "[CV 4/5; 1/9] START dropout_rate=0.01, learning_rate=0.001......................\n",
      "[CV 4/5; 1/9] END dropout_rate=0.01, learning_rate=0.001;, score=-0.001 total time=  41.2s\n",
      "[CV 5/5; 1/9] START dropout_rate=0.01, learning_rate=0.001......................\n",
      "[CV 5/5; 1/9] END dropout_rate=0.01, learning_rate=0.001;, score=-0.002 total time=  44.6s\n",
      "[CV 1/5; 2/9] START dropout_rate=0.01, learning_rate=0.01.......................\n",
      "[CV 1/5; 2/9] END dropout_rate=0.01, learning_rate=0.01;, score=-0.000 total time=  39.1s\n",
      "[CV 2/5; 2/9] START dropout_rate=0.01, learning_rate=0.01.......................\n",
      "[CV 2/5; 2/9] END dropout_rate=0.01, learning_rate=0.01;, score=-0.001 total time=  38.7s\n",
      "[CV 3/5; 2/9] START dropout_rate=0.01, learning_rate=0.01.......................\n",
      "[CV 3/5; 2/9] END dropout_rate=0.01, learning_rate=0.01;, score=-0.004 total time=  36.8s\n",
      "[CV 4/5; 2/9] START dropout_rate=0.01, learning_rate=0.01.......................\n",
      "[CV 4/5; 2/9] END dropout_rate=0.01, learning_rate=0.01;, score=nan total time=  46.1s\n",
      "[CV 5/5; 2/9] START dropout_rate=0.01, learning_rate=0.01.......................\n",
      "[CV 5/5; 2/9] END dropout_rate=0.01, learning_rate=0.01;, score=-0.019 total time=  42.6s\n",
      "[CV 1/5; 3/9] START dropout_rate=0.01, learning_rate=0.1........................\n",
      "[CV 1/5; 3/9] END dropout_rate=0.01, learning_rate=0.1;, score=nan total time=  47.3s\n",
      "[CV 2/5; 3/9] START dropout_rate=0.01, learning_rate=0.1........................\n",
      "[CV 2/5; 3/9] END dropout_rate=0.01, learning_rate=0.1;, score=nan total time=  46.4s\n",
      "[CV 3/5; 3/9] START dropout_rate=0.01, learning_rate=0.1........................\n",
      "[CV 3/5; 3/9] END dropout_rate=0.01, learning_rate=0.1;, score=nan total time=  44.9s\n",
      "[CV 4/5; 3/9] START dropout_rate=0.01, learning_rate=0.1........................\n",
      "[CV 4/5; 3/9] END dropout_rate=0.01, learning_rate=0.1;, score=nan total time=  42.7s\n",
      "[CV 5/5; 3/9] START dropout_rate=0.01, learning_rate=0.1........................\n",
      "[CV 5/5; 3/9] END dropout_rate=0.01, learning_rate=0.1;, score=nan total time=  32.3s\n",
      "[CV 1/5; 4/9] START dropout_rate=0.1, learning_rate=0.001.......................\n",
      "[CV 1/5; 4/9] END dropout_rate=0.1, learning_rate=0.001;, score=-0.000 total time=  47.1s\n",
      "[CV 2/5; 4/9] START dropout_rate=0.1, learning_rate=0.001.......................\n",
      "[CV 2/5; 4/9] END dropout_rate=0.1, learning_rate=0.001;, score=-0.000 total time=  40.7s\n",
      "[CV 3/5; 4/9] START dropout_rate=0.1, learning_rate=0.001.......................\n",
      "[CV 3/5; 4/9] END dropout_rate=0.1, learning_rate=0.001;, score=-0.000 total time=  39.8s\n",
      "[CV 4/5; 4/9] START dropout_rate=0.1, learning_rate=0.001.......................\n",
      "[CV 4/5; 4/9] END dropout_rate=0.1, learning_rate=0.001;, score=-0.001 total time=  41.6s\n",
      "[CV 5/5; 4/9] START dropout_rate=0.1, learning_rate=0.001.......................\n",
      "[CV 5/5; 4/9] END dropout_rate=0.1, learning_rate=0.001;, score=-0.003 total time=  44.5s\n",
      "[CV 1/5; 5/9] START dropout_rate=0.1, learning_rate=0.01........................\n",
      "[CV 1/5; 5/9] END dropout_rate=0.1, learning_rate=0.01;, score=-0.010 total time=  44.0s\n",
      "[CV 2/5; 5/9] START dropout_rate=0.1, learning_rate=0.01........................\n",
      "[CV 2/5; 5/9] END dropout_rate=0.1, learning_rate=0.01;, score=-0.000 total time=  47.2s\n",
      "[CV 3/5; 5/9] START dropout_rate=0.1, learning_rate=0.01........................\n",
      "[CV 3/5; 5/9] END dropout_rate=0.1, learning_rate=0.01;, score=-0.001 total time=  36.7s\n",
      "[CV 4/5; 5/9] START dropout_rate=0.1, learning_rate=0.01........................\n",
      "[CV 4/5; 5/9] END dropout_rate=0.1, learning_rate=0.01;, score=-0.000 total time=  47.3s\n",
      "[CV 5/5; 5/9] START dropout_rate=0.1, learning_rate=0.01........................\n",
      "[CV 5/5; 5/9] END dropout_rate=0.1, learning_rate=0.01;, score=-0.068 total time=  38.6s\n",
      "[CV 1/5; 6/9] START dropout_rate=0.1, learning_rate=0.1.........................\n",
      "[CV 1/5; 6/9] END dropout_rate=0.1, learning_rate=0.1;, score=nan total time=  43.0s\n",
      "[CV 2/5; 6/9] START dropout_rate=0.1, learning_rate=0.1.........................\n",
      "[CV 2/5; 6/9] END dropout_rate=0.1, learning_rate=0.1;, score=nan total time=  46.3s\n",
      "[CV 3/5; 6/9] START dropout_rate=0.1, learning_rate=0.1.........................\n",
      "[CV 3/5; 6/9] END dropout_rate=0.1, learning_rate=0.1;, score=nan total time=  41.1s\n",
      "[CV 4/5; 6/9] START dropout_rate=0.1, learning_rate=0.1.........................\n",
      "[CV 4/5; 6/9] END dropout_rate=0.1, learning_rate=0.1;, score=nan total time=  46.1s\n",
      "[CV 5/5; 6/9] START dropout_rate=0.1, learning_rate=0.1.........................\n",
      "[CV 5/5; 6/9] END dropout_rate=0.1, learning_rate=0.1;, score=nan total time=  46.1s\n",
      "[CV 1/5; 7/9] START dropout_rate=0.2, learning_rate=0.001.......................\n",
      "[CV 1/5; 7/9] END dropout_rate=0.2, learning_rate=0.001;, score=-0.000 total time=  51.7s\n",
      "[CV 2/5; 7/9] START dropout_rate=0.2, learning_rate=0.001.......................\n",
      "[CV 2/5; 7/9] END dropout_rate=0.2, learning_rate=0.001;, score=-0.001 total time=  48.4s\n",
      "[CV 3/5; 7/9] START dropout_rate=0.2, learning_rate=0.001.......................\n",
      "[CV 3/5; 7/9] END dropout_rate=0.2, learning_rate=0.001;, score=-0.000 total time=  41.9s\n",
      "[CV 4/5; 7/9] START dropout_rate=0.2, learning_rate=0.001.......................\n",
      "[CV 4/5; 7/9] END dropout_rate=0.2, learning_rate=0.001;, score=-0.001 total time=  47.0s\n",
      "[CV 5/5; 7/9] START dropout_rate=0.2, learning_rate=0.001.......................\n",
      "[CV 5/5; 7/9] END dropout_rate=0.2, learning_rate=0.001;, score=-0.002 total time=  34.7s\n",
      "[CV 1/5; 8/9] START dropout_rate=0.2, learning_rate=0.01........................\n",
      "[CV 1/5; 8/9] END dropout_rate=0.2, learning_rate=0.01;, score=-0.037 total time=  34.2s\n",
      "[CV 2/5; 8/9] START dropout_rate=0.2, learning_rate=0.01........................\n",
      "[CV 2/5; 8/9] END dropout_rate=0.2, learning_rate=0.01;, score=-0.000 total time=  32.8s\n",
      "[CV 3/5; 8/9] START dropout_rate=0.2, learning_rate=0.01........................\n",
      "[CV 3/5; 8/9] END dropout_rate=0.2, learning_rate=0.01;, score=-0.001 total time=  33.5s\n",
      "[CV 4/5; 8/9] START dropout_rate=0.2, learning_rate=0.01........................\n",
      "[CV 4/5; 8/9] END dropout_rate=0.2, learning_rate=0.01;, score=-0.001 total time=  33.1s\n",
      "[CV 5/5; 8/9] START dropout_rate=0.2, learning_rate=0.01........................\n",
      "[CV 5/5; 8/9] END dropout_rate=0.2, learning_rate=0.01;, score=-0.021 total time=  36.3s\n",
      "[CV 1/5; 9/9] START dropout_rate=0.2, learning_rate=0.1.........................\n",
      "[CV 1/5; 9/9] END dropout_rate=0.2, learning_rate=0.1;, score=nan total time=  21.0s\n",
      "[CV 2/5; 9/9] START dropout_rate=0.2, learning_rate=0.1.........................\n",
      "[CV 2/5; 9/9] END dropout_rate=0.2, learning_rate=0.1;, score=nan total time=  22.2s\n",
      "[CV 3/5; 9/9] START dropout_rate=0.2, learning_rate=0.1.........................\n",
      "[CV 3/5; 9/9] END dropout_rate=0.2, learning_rate=0.1;, score=nan total time=  22.4s\n",
      "[CV 4/5; 9/9] START dropout_rate=0.2, learning_rate=0.1.........................\n",
      "[CV 4/5; 9/9] END dropout_rate=0.2, learning_rate=0.1;, score=nan total time=  21.3s\n",
      "[CV 5/5; 9/9] START dropout_rate=0.2, learning_rate=0.1.........................\n",
      "[CV 5/5; 9/9] END dropout_rate=0.2, learning_rate=0.1;, score=nan total time=  21.7s\n"
     ]
    },
    {
     "name": "stderr",
     "output_type": "stream",
     "text": [
      "C:\\Users\\cricl\\anaconda3\\lib\\site-packages\\sklearn\\model_selection\\_search.py:922: UserWarning: One or more of the test scores are non-finite: [-0.00071926         nan         nan -0.001048   -0.01608253         nan\n",
      " -0.00067702 -0.01206404         nan]\n",
      "  warnings.warn(\n"
     ]
    },
    {
     "name": "stdout",
     "output_type": "stream",
     "text": [
      "Best : -0.0006770218984456733, using {'dropout_rate': 0.2, 'learning_rate': 0.001}\n",
      "-0.0007192629214841873,0.0006151524662536869 with: {'dropout_rate': 0.01, 'learning_rate': 0.001}\n",
      "nan,nan with: {'dropout_rate': 0.01, 'learning_rate': 0.01}\n",
      "nan,nan with: {'dropout_rate': 0.01, 'learning_rate': 0.1}\n",
      "-0.0010480020981049165,0.0012110273238650263 with: {'dropout_rate': 0.1, 'learning_rate': 0.001}\n",
      "-0.016082530264975504,0.026455658525045722 with: {'dropout_rate': 0.1, 'learning_rate': 0.01}\n",
      "nan,nan with: {'dropout_rate': 0.1, 'learning_rate': 0.1}\n",
      "-0.0006770218984456733,0.00048233702498975956 with: {'dropout_rate': 0.2, 'learning_rate': 0.001}\n",
      "-0.012064036238007248,0.014734933005019568 with: {'dropout_rate': 0.2, 'learning_rate': 0.01}\n",
      "nan,nan with: {'dropout_rate': 0.2, 'learning_rate': 0.1}\n"
     ]
    }
   ],
   "source": [
    "# Using the function optimize_params to check for optimum values\n",
    "Best_params= optimize_params(X_train_reshaped,Y_train)"
   ]
  },
  {
   "cell_type": "raw",
   "id": "4827b7db",
   "metadata": {},
   "source": [
    "# Capturing the best parameters\n",
    "dropout_rate = Best_params[dropout_rate]\n",
    "learning_rate = Best_params[learning_rate]"
   ]
  },
  {
   "cell_type": "code",
   "execution_count": 52,
   "id": "50bcd424",
   "metadata": {},
   "outputs": [
    {
     "data": {
      "text/plain": [
       "{'dropout_rate': 0.2, 'learning_rate': 0.001}"
      ]
     },
     "execution_count": 52,
     "metadata": {},
     "output_type": "execute_result"
    }
   ],
   "source": [
    "Best_params"
   ]
  },
  {
   "cell_type": "code",
   "execution_count": 53,
   "id": "a0a6d29e",
   "metadata": {},
   "outputs": [],
   "source": [
    "dropout_rate = 0.2\n",
    "learning_rate = 0.001"
   ]
  },
  {
   "cell_type": "code",
   "execution_count": 62,
   "id": "e4ecf4b8",
   "metadata": {},
   "outputs": [
    {
     "name": "stdout",
     "output_type": "stream",
     "text": [
      "Model: \"sequential_47\"\n",
      "_________________________________________________________________\n",
      "Layer (type)                 Output Shape              Param #   \n",
      "=================================================================\n",
      "lstm_94 (LSTM)               (None, 90, 50)            10400     \n",
      "_________________________________________________________________\n",
      "dropout_94 (Dropout)         (None, 90, 50)            0         \n",
      "_________________________________________________________________\n",
      "lstm_95 (LSTM)               (None, 50)                20200     \n",
      "_________________________________________________________________\n",
      "dropout_95 (Dropout)         (None, 50)                0         \n",
      "_________________________________________________________________\n",
      "dense_47 (Dense)             (None, 1)                 51        \n",
      "=================================================================\n",
      "Total params: 30,651\n",
      "Trainable params: 30,651\n",
      "Non-trainable params: 0\n",
      "_________________________________________________________________\n",
      "Epoch 1/5\n",
      "60/60 - 3s - loss: 0.0206\n",
      "Epoch 2/5\n",
      "60/60 - 3s - loss: 0.0029\n",
      "Epoch 3/5\n",
      "60/60 - 3s - loss: 0.0024\n",
      "Epoch 4/5\n",
      "60/60 - 3s - loss: 0.0021\n",
      "Epoch 5/5\n",
      "60/60 - 3s - loss: 0.0021\n"
     ]
    }
   ],
   "source": [
    "## Creating the ,model using the optimum parameters\n",
    "model_LSTM = Sequential()\n",
    "\n",
    "model_LSTM.add(LSTM(50, activation=\"relu\",return_sequences =True, input_shape=(X_train.shape[1],1)))\n",
    "model_LSTM.add(Dropout(dropout_rate))\n",
    "\n",
    "model_LSTM.add(LSTM(50, activation=\"relu\",return_sequences =False))\n",
    "model_LSTM.add(Dropout(dropout_rate))\n",
    "          \n",
    "model_LSTM.add(Dense(1))\n",
    "adam = Adam(learning_rate = learning_rate)\n",
    "\n",
    "# model compiling using parameters\n",
    "model_LSTM.compile(optimizer=adam, loss='mse')\n",
    "\n",
    "model_LSTM.summary()\n",
    "#Fitting the data into the model\n",
    "hist = model_LSTM.fit(X_train_reshaped,Y_train,epochs=5,verbose = 2)"
   ]
  },
  {
   "cell_type": "code",
   "execution_count": 63,
   "id": "a2b9d721",
   "metadata": {},
   "outputs": [],
   "source": [
    "## Creating the H5 file and svaing the model\n",
    "model.save('{}.h5'.format(csv_file))"
   ]
  },
  {
   "cell_type": "code",
   "execution_count": 64,
   "id": "980add2f",
   "metadata": {},
   "outputs": [
    {
     "data": {
      "text/plain": [
       "<matplotlib.legend.Legend at 0x19846f3e5e0>"
      ]
     },
     "execution_count": 64,
     "metadata": {},
     "output_type": "execute_result"
    },
    {
     "data": {
      "image/png": "[encoded data removed]",
      "text/plain": [
       "<Figure size 432x288 with 1 Axes>"
      ]
     },
     "metadata": {
      "needs_background": "light"
     },
     "output_type": "display_data"
    }
   ],
   "source": [
    "# Plotting the loss function\n",
    "plt.plot(hist.history['loss'], label='Training loss')\n",
    "plt.title(\"Training loss\")\n",
    "plt.legend()"
   ]
  },
  {
   "cell_type": "code",
   "execution_count": 65,
   "id": "f7c168ab",
   "metadata": {},
   "outputs": [],
   "source": [
    "# Predicting the train and test values\n",
    "train_predict=model.predict(X_train_reshaped)\n",
    "test_predict=model.predict(X_test_reshaped)"
   ]
  },
  {
   "cell_type": "code",
   "execution_count": 66,
   "id": "f7ee6bab",
   "metadata": {},
   "outputs": [],
   "source": [
    "#Inverse transforming the values to regain the unscaled values\n",
    "train_predict=scaler.inverse_transform(train_predict)\n",
    "test_predict=scaler.inverse_transform(test_predict)"
   ]
  },
  {
   "cell_type": "code",
   "execution_count": 67,
   "id": "4ecf0dc3",
   "metadata": {},
   "outputs": [
    {
     "data": {
      "text/plain": [
       "[<matplotlib.lines.Line2D at 0x19847051f10>]"
      ]
     },
     "execution_count": 67,
     "metadata": {},
     "output_type": "execute_result"
    },
    {
     "data": {
      "image/png": "[encoded data removed]",
      "text/plain": [
       "<Figure size 432x288 with 1 Axes>"
      ]
     },
     "metadata": {
      "needs_background": "light"
     },
     "output_type": "display_data"
    }
   ],
   "source": [
    "#Plotting the train and test values\n",
    "day_new=np.arange(len(train_predict))\n",
    "day_pred=np.arange(len(train_predict),len(train_predict)+len(test_predict))\n",
    "plt.plot(day_new,train_predict)\n",
    "plt.plot(day_pred,test_predict)"
   ]
  },
  {
   "cell_type": "code",
   "execution_count": 70,
   "id": "85eb1aab",
   "metadata": {},
   "outputs": [],
   "source": [
    "# Created a function to evaluate the metrics of all the models\n",
    "\n",
    "def Evaluate_models(model):\n",
    "    y_pred = model.predict(X_test_reshaped)\n",
    "    \n",
    "    MSE = mean_squared_error(Y_test, y_pred)\n",
    "    \n",
    "    RMSE = mean_squared_error(Y_test, y_pred, squared=False)\n",
    "\n",
    "    R2 = r2_score(Y_test, y_pred)\n",
    "    \n",
    "    ADJ_R2 = 1 - (1-R2)*(len(Y_train)-1)/(X_train.shape[0]-X_train.shape[1]-1)\n",
    "\n",
    "    MAPE = mean_absolute_percentage_error(Y_test, y_pred)\n",
    "    \n",
    "    return (MSE,RMSE,R2,ADJ_R2,MAPE)"
   ]
  },
  {
   "cell_type": "code",
   "execution_count": 73,
   "id": "70abc493",
   "metadata": {},
   "outputs": [],
   "source": [
    "# Loading the metrics into DF using above function\n",
    "Metrics_LSTM  = Evaluate_models(model_LSTM)\n",
    "MSE_LSTM = Metrics_LSTM[0]\n",
    "RMSE_LSTM = Metrics_LSTM[1]\n",
    "R2_LSTM = Metrics_LSTM[2]\n",
    "ADJ_R2_LSTM = Metrics_LSTM[3]\n",
    "MAPE_LSTM = Metrics_LSTM[4]"
   ]
  },
  {
   "cell_type": "code",
   "execution_count": 74,
   "id": "98564274",
   "metadata": {},
   "outputs": [],
   "source": [
    "Metrics={'Models':[\"Neural Network\"],\n",
    "      'MSE' :[MSE_LSTM],\n",
    "      'RMSE' :[RMSE_LSTM],\n",
    "      'R2' :[R2_LSTM],\n",
    "      'ADJ R2' :[ADJ_R2_LSTM,],\n",
    "      'MAPE' :[MAPE_LSTM]\n",
    "      \n",
    "   }\n",
    "Metrics=pd.DataFrame(Metrics)\n",
    "# Saving the DF into CSV file\n",
    "Metrics.to_csv(\"Metrics.csv\")"
   ]
  },
  {
   "cell_type": "code",
   "execution_count": 75,
   "id": "2ea49a12",
   "metadata": {},
   "outputs": [
    {
     "data": {
      "text/html": [
       "<div>\n",
       "<style scoped>\n",
       "    .dataframe tbody tr th:only-of-type {\n",
       "        vertical-align: middle;\n",
       "    }\n",
       "\n",
       "    .dataframe tbody tr th {\n",
       "        vertical-align: top;\n",
       "    }\n",
       "\n",
       "    .dataframe thead th {\n",
       "        text-align: right;\n",
       "    }\n",
       "</style>\n",
       "<table border=\"1\" class=\"dataframe\">\n",
       "  <thead>\n",
       "    <tr style=\"text-align: right;\">\n",
       "      <th></th>\n",
       "      <th>Models</th>\n",
       "      <th>MSE</th>\n",
       "      <th>RMSE</th>\n",
       "      <th>R2</th>\n",
       "      <th>ADJ R2</th>\n",
       "      <th>MAPE</th>\n",
       "    </tr>\n",
       "  </thead>\n",
       "  <tbody>\n",
       "    <tr>\n",
       "      <th>0</th>\n",
       "      <td>Neural Network</td>\n",
       "      <td>0.004493</td>\n",
       "      <td>0.067029</td>\n",
       "      <td>0.780818</td>\n",
       "      <td>0.770015</td>\n",
       "      <td>3.496228e+12</td>\n",
       "    </tr>\n",
       "  </tbody>\n",
       "</table>\n",
       "</div>"
      ],
      "text/plain": [
       "           Models       MSE      RMSE        R2    ADJ R2          MAPE\n",
       "0  Neural Network  0.004493  0.067029  0.780818  0.770015  3.496228e+12"
      ]
     },
     "execution_count": 75,
     "metadata": {},
     "output_type": "execute_result"
    }
   ],
   "source": [
    "Metrics"
   ]
  },
  {
   "cell_type": "code",
   "execution_count": null,
   "id": "a66f1023",
   "metadata": {},
   "outputs": [],
   "source": []
  }
 ],
 "metadata": {
  "kernelspec": {
   "display_name": "Python 3",
   "language": "python",
   "name": "python3"
  },
  "language_info": {
   "codemirror_mode": {
    "name": "ipython",
    "version": 3
   },
   "file_extension": ".py",
   "mimetype": "text/x-python",
   "name": "python",
   "nbconvert_exporter": "python",
   "pygments_lexer": "ipython3",
   "version": "3.8.8"
  }
 },
 "nbformat": 4,
 "nbformat_minor": 5
}
